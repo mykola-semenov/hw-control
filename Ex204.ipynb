{
 "cells": [
  {
   "cell_type": "markdown",
   "metadata": {},
   "source": [
    "# #4\n",
    "Для системы заданной своей передаточной функцией: \n",
    "$$W(s) = \\frac{k(s+1)(s+10)}{s} = k\\frac{M(s)}{N(s)}$$\n",
    "построить корневые траектории."
   ]
  },
  {
   "cell_type": "markdown",
   "metadata": {},
   "source": [
    "1) Воспользуемся готовыми средствами (модуль control для Python)"
   ]
  },
  {
   "cell_type": "code",
   "execution_count": 1,
   "metadata": {
    "collapsed": false
   },
   "outputs": [
    {
     "name": "stdout",
     "output_type": "stream",
     "text": [
      "\n",
      "s^2 + 11 s + 10\n",
      "---------------\n",
      "       s\n",
      "\n"
     ]
    }
   ],
   "source": [
    "import numpy, matplotlib.pyplot, control\n",
    "\n",
    "def W(k):\n",
    "    return control.tf([k, 11*k, 10*k], [1, 0]);\n",
    "\n",
    "print(W(1))"
   ]
  },
  {
   "cell_type": "code",
   "execution_count": 2,
   "metadata": {
    "collapsed": false
   },
   "outputs": [
    {
     "data": {
      "image/png": "[encoded data removed]",
      "text/plain": [
       "<matplotlib.figure.Figure at 0x7f2a940db588>"
      ]
     },
     "metadata": {},
     "output_type": "display_data"
    }
   ],
   "source": [
    "control.root_locus(W(1))\n",
    "matplotlib.pyplot.grid(True)\n",
    "matplotlib.pyplot.axis([-15, 1, -5, 5])\n",
    "matplotlib.pyplot.xlabel('Re')\n",
    "matplotlib.pyplot.ylabel('Im')\n",
    "matplotlib.pyplot.show()"
   ]
  },
  {
   "cell_type": "markdown",
   "metadata": {},
   "source": [
    "2) Определим корневые траектории непосредственным  образом:\n",
    "$$\\Phi(s) = \\frac{W(s)}{1 + W(s)} = \\frac{kM(s)}{N(s) + kM(s)} = \\frac{k(s+1)(s+10)}{s + k(s+1)(s+10)} = k\\frac{M(s)}{D(s)}$$\n",
    "$$D(s) = k(s^2 + (11 + \\frac{1}{k})s + 10)$$\n",
    "Решим уравнение:\n",
    "$$D(\\lambda) = 0 = \\lambda^2 + (11 + \\frac{1}{k})\\lambda + 10$$\n",
    "$$\\lambda_{1,2} = \\frac{-11 - \\frac{1}{k} \\pm\\sqrt{(11 + \\frac{1}{k})^2 - 40}}{2}$$"
   ]
  },
  {
   "cell_type": "code",
   "execution_count": 3,
   "metadata": {
    "collapsed": true
   },
   "outputs": [],
   "source": [
    "def lambda1(k):\n",
    "    return (- 11 - 1/k + numpy.sqrt((11 + 1/k)**2 - 40))/2\n",
    "\n",
    "def lambda2(k):\n",
    "    return (- 11 - 1/k - numpy.sqrt((11 + 1/k)**2 - 40))/2"
   ]
  },
  {
   "cell_type": "code",
   "execution_count": 4,
   "metadata": {
    "collapsed": false
   },
   "outputs": [],
   "source": [
    "lambda1s = numpy.array([lambda1(k) for k in numpy.arange(1e-10, 100, 0.01)])\n",
    "lambda2s = numpy.array([lambda2(k) for k in numpy.arange(1e-10, 100, 0.01)])"
   ]
  },
  {
   "cell_type": "code",
   "execution_count": 6,
   "metadata": {
    "collapsed": false
   },
   "outputs": [
    {
     "data": {
      "image/png": "[encoded data removed]",
      "text/plain": [
       "<matplotlib.figure.Figure at 0x7f2a685200f0>"
      ]
     },
     "metadata": {},
     "output_type": "display_data"
    }
   ],
   "source": [
    "matplotlib.pyplot.figure(figsize=(15, 7.5))\n",
    "matplotlib.pyplot.plot(lambda1s.real, lambda1s.imag, 'k', \n",
    "                       lambda2s.real, lambda2s.imag, 'k', \n",
    "                       (-0.6, -0.4, -0.6), (0.1, 0, -0.1), 'k',\n",
    "                       (-12.4, -12.6, -12.4), (0.1, 0, -0.1), 'k')\n",
    "matplotlib.pyplot.grid(True)\n",
    "matplotlib.pyplot.axis([-15, 1, -5, 5])\n",
    "matplotlib.pyplot.xlabel('Re')\n",
    "matplotlib.pyplot.ylabel('Im')\n",
    "\n",
    "matplotlib.pyplot.show()"
   ]
  }
 ],
 "metadata": {
  "kernelspec": {
   "display_name": "Python 3",
   "language": "python",
   "name": "python3"
  },
  "language_info": {
   "codemirror_mode": {
    "name": "ipython",
    "version": 3
   },
   "file_extension": ".py",
   "mimetype": "text/x-python",
   "name": "python",
   "nbconvert_exporter": "python",
   "pygments_lexer": "ipython3",
   "version": "3.5.3"
  }
 },
 "nbformat": 4,
 "nbformat_minor": 2
}
